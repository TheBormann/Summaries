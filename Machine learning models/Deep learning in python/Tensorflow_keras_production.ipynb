{
 "cells": [
  {
   "cell_type": "markdown",
   "metadata": {
    "collapsed": true,
    "pycharm": {
     "name": "#%% md\n"
    }
   },
   "source": [
    "# Deploy a Keras / Tensorlfow model to Production\n",
    "\n",
    "When developing a ml start-up you want to first build the basic application with the most basic model.\n",
    "This helps you with early feedback and will you get faster to a useful product.\n",
    "\n",
    "In the following summary I will show you how to build a basic webapp with Flask to release you project most quickly.\n",
    "\n",
    "**NOTE:** Flask only should be used if you customer base is small or for prototyping, if you have high traffic on you site, you\n",
    "should publish you application via tensorflow service!!\n",
    "\n",
    "## Steps to take\n",
    "1. Gather data\n",
    "2. Train model\n",
    "3. write backend to serve our model\n",
    "4. deploy webapp\n",
    "\n",
    "\n",
    "\n",
    "\n",
    "\n",
    "\n",
    "\n",
    "\n",
    "\n"
   ]
  },
  {
   "cell_type": "markdown",
   "source": [
    "## References\n",
    "* https://machinelearningmastery.com/deploy-machine-learning-model-to-production/\n",
    "* https://www.youtube.com/watch?v=f6Bf3gl4hWY&feature=emb_logo\n",
    "* https://www.youtube.com/watch?v=T_afaArR0E8"
   ],
   "metadata": {
    "collapsed": false,
    "pycharm": {
     "name": "#%% md\n"
    }
   }
  }
 ],
 "metadata": {
  "kernelspec": {
   "display_name": "Python 3",
   "language": "python",
   "name": "python3"
  },
  "language_info": {
   "codemirror_mode": {
    "name": "ipython",
    "version": 2
   },
   "file_extension": ".py",
   "mimetype": "text/x-python",
   "name": "python",
   "nbconvert_exporter": "python",
   "pygments_lexer": "ipython2",
   "version": "2.7.6"
  }
 },
 "nbformat": 4,
 "nbformat_minor": 0
}