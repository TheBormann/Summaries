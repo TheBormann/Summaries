{
 "cells": [
  {
   "cell_type": "markdown",
   "metadata": {
    "collapsed": true,
    "pycharm": {
     "name": "#%% md\n"
    }
   },
   "source": [
    "# Basics on using Tensorflow\n",
    "\n",
    "(FOR TENSORFLOW 2.1.* use this command to work: pip install tensorflow-estimator==2.1.*)\n",
    "\n",
    "## Installation\n",
    "TensorFlow has a highly active community and evolves very rapidly, so to stay up to date read the documentation:\n",
    "https://www.tensorflow.org/install\n",
    "\n",
    "But for my purposes it's best to install tensorflow via Anaconda.\n",
    "Anaconda is a packet manager for Python that has all packages needed for data science.\n",
    "To install Tensorflow via Anaconda [click here](https://docs.anaconda.com/anaconda/user-guide/tasks/tensorflow/)\n",
    "or type in your terminal:\n",
    "```\n",
    "# for GPU support\n",
    "conda create -n tf-gpu tensorflow-gpu\n",
    "conda activate tf-gpu\n",
    "\n",
    "# only CPU\n",
    "conda create -n tf tensorflow\n",
    "conda activate tf\n",
    "```\n",
    "\n",
    "#### Use TensorFlow with GPU\n",
    "The standard for Tensorflow is, to use the GPU when available. You can change this if you want.\n",
    "There is only a small catch: GPU support is currently only available on Ubuntu and windows systems with CUDA graphic cards.\n",
    "This means we need an workaround for graphic cards that doesn't use cuda\n",
    "https://towardsdatascience.com/train-neural-networks-using-amd-gpus-and-keras-37189c453878\n",
    "\n",
    "##\n",
    "\n",
    "\n",
    "\n",
    "## Ressources\n",
    "\n",
    "* https://www.tensorflow.org/guide\n",
    "* https://deeplizard.com/learn/video/RznKVRTFkBY#\n",
    "\n",
    "\n"
   ]
  }
 ],
 "metadata": {
  "kernelspec": {
   "display_name": "Python 3",
   "language": "python",
   "name": "python3"
  },
  "language_info": {
   "codemirror_mode": {
    "name": "ipython",
    "version": 2
   },
   "file_extension": ".py",
   "mimetype": "text/x-python",
   "name": "python",
   "nbconvert_exporter": "python",
   "pygments_lexer": "ipython2",
   "version": "2.7.6"
  }
 },
 "nbformat": 4,
 "nbformat_minor": 0
}