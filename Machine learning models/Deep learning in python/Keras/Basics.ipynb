{
 "cells": [
  {
   "cell_type": "markdown",
   "metadata": {
    "collapsed": true,
    "pycharm": {
     "name": "#%% md\n"
    }
   },
   "source": [
    "# Basics on using Keras\n",
    "\n",
    "(Disclamer: Resource the summary is based on the [www.deeplizard.com](https://deeplizard.com/learn/video/RznKVRTFkBY#) website)\n",
    "\n",
    "Keras is a high level api, that aims to allow you rapid machine learning prototyping.\n",
    "it originally wrapped TensorFlow, Theano and CNTK together, but over time TensorFlow became the most popular backend engine.\n",
    "Now TensorFlow has Keras integrated in its library and you can use Keras by simply downloading Tensorflow:\n",
    "```\n",
    "pip install tensorflow\n",
    "```\n",
    "**Note:** Since Keras got integrated within Tensorflow, Keras standalone is deprecated und shouldn't be used\n",
    "\n",
    "Because the installation of Keras and TensorFlow is the same, I will refer to the TensorFlow installation [here](../Tensorflow/Basics.ipynb)\n",
    "\n",
    "#### Use Keras\n",
    "If TensorFlow is correctly installed, you can simply import Keras with the following:\n",
    "\n",
    "## Simple Example Using Sequential model\n",
    "This will be a example project you can base your own models from\n",
    "\n",
    "### Data Generation\n",
    "\n",
    "\n",
    "### Model creation"
   ]
  },
  {
   "cell_type": "code",
   "execution_count": 2,
   "outputs": [
    {
     "name": "stdout",
     "output_type": "stream",
     "text": [
      "Num GPUs Available:  0\n"
     ]
    }
   ],
   "source": [
    "from tensorflow import keras\n",
    "from tensorflow.keras.models import Sequential\n",
    "from tensorflow.keras.layers import Activation, Dense\n",
    "from tensorflow.keras.optimizers import Adam\n",
    "import pandas as pd\n",
    "import numpy as np\n",
    "\n",
    "# Get data\n",
    "df_train = pd.read_csv('./Dataset/mnist_train.csv')\n",
    "df_test = pd.read_csv('./Dataset/mnist_test.csv')\n",
    "\n",
    "y_train = df_train['label']\n",
    "y_test = df_test['label']\n",
    "X_train = df_train.iloc[:, 1:]\n",
    "X_test = df_test.iloc[:, 1:]\n",
    "\n",
    "# If you are using an CUDA GPU, you can check for availability with the first 2 commands and use the GPU with the last one\n",
    "physical_devices = tf.config.experimental.list_physical_devices('GPU')\n",
    "print(\"Num GPUs Available: \", len(physical_devices))\n",
    "# tf.config.experimental.set_memory_growth(physical_devices[0], True)"
   ],
   "metadata": {
    "collapsed": false,
    "pycharm": {
     "name": "#%%\n"
    }
   }
  },
  {
   "cell_type": "code",
   "execution_count": 3,
   "outputs": [
    {
     "name": "stdout",
     "output_type": "stream",
     "text": [
      "Model: \"sequential\"\n",
      "_________________________________________________________________\n",
      "Layer (type)                 Output Shape              Param #   \n",
      "=================================================================\n",
      "dense (Dense)                (None, 16)                32        \n",
      "_________________________________________________________________\n",
      "dense_1 (Dense)              (None, 32)                544       \n",
      "_________________________________________________________________\n",
      "dense_2 (Dense)              (None, 2)                 66        \n",
      "=================================================================\n",
      "Total params: 642\n",
      "Trainable params: 642\n",
      "Non-trainable params: 0\n",
      "_________________________________________________________________\n"
     ]
    }
   ],
   "source": [
    "model = Sequential([\n",
    "    Dense(units=64, input_shape=(784,), activation='relu'),\n",
    "    Dense(units=32, activation='relu'),\n",
    "    Dense(units=16, activation='relu'),\n",
    "    Dense(units=10, activation='softmax')\n",
    "])\n",
    "\n",
    "\n",
    "# Define training process\n",
    "model.compile(optimizer=Adam(learning_rate=.0001), loss='sparse_categorical_crossentropy', metrics=['accuracy'])\n",
    "\n",
    "model.summary()"
   ],
   "metadata": {
    "collapsed": false,
    "pycharm": {
     "name": "#%%\n"
    }
   }
  },
  {
   "cell_type": "markdown",
   "source": [
    "The compile method defines with what parameters the training should be performed.\n",
    "First we define the optimizer, which defines how to improve the model. Adam is a SGD (stochastic gradient decent) optimization\n",
    "more on that in the [fundamentals folder](../Fundamentals).\n",
    "Normally the learning rate used, is between 0.01 and 0.0001.\n",
    "The loss parameter defines how we calculate the loss of our predictions.\n",
    "Metrics gives us the ability to print additional information while training.\n",
    "\n",
    "### Model training\n",
    "This is possible with the fit method:\n",
    "* **x:** is the input data\n",
    "* **y:** is the output date (labels), to test and improve the models predictions\n",
    "* **validation_split** means that the data will split into first x percent are is the training data and the rest is to validate.\n",
    "    Note that validation_split will not shuffle the data\n",
    "* **batch_size:** describes how much elements from the dataset get passed until the loss function is calculated\n",
    "* **Epoch:** is a single pass of the entire dataset to the network\n",
    "* **Shuffle:** shuffles the data after an epoch"
   ],
   "metadata": {
    "collapsed": false,
    "pycharm": {
     "name": "#%% md\n"
    }
   }
  },
  {
   "cell_type": "code",
   "execution_count": null,
   "outputs": [],
   "source": [
    "model.fit(x=X_train, y=y_train, validation_split=0.1, batch_size=10, epochs=30, shuffle=True, verbose=2)\n",
    "\n",
    "\n"
   ],
   "metadata": {
    "collapsed": false,
    "pycharm": {
     "name": "#%%\n"
    }
   }
  },
  {
   "cell_type": "markdown",
   "source": [
    "## Ressources\n",
    "\n",
    "* https://www.tensorflow.org/guide\n",
    "* https://deeplizard.com/learn/video/RznKVRTFkBY#\n",
    "* https://machinelearningmastery.com/tutorial-first-neural-network-python-keras/\n",
    "* https://curiousily.com/posts/deploy-keras-deep-learning-project-to-production-with-flask/\n",
    "* how to deploy keras models to production\n",
    "\n",
    "\n",
    "\n",
    "\n"
   ],
   "metadata": {
    "collapsed": false,
    "pycharm": {
     "name": "#%% md\n"
    }
   }
  }
 ],
 "metadata": {
  "kernelspec": {
   "display_name": "Python 3",
   "language": "python",
   "name": "python3"
  },
  "language_info": {
   "codemirror_mode": {
    "name": "ipython",
    "version": 2
   },
   "file_extension": ".py",
   "mimetype": "text/x-python",
   "name": "python",
   "nbconvert_exporter": "python",
   "pygments_lexer": "ipython2",
   "version": "2.7.6"
  }
 },
 "nbformat": 4,
 "nbformat_minor": 0
}